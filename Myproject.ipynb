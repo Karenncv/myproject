{
  "nbformat": 4,
  "nbformat_minor": 0,
  "metadata": {
    "colab": {
      "name": "Myproject.ipynb",
      "provenance": [],
      "collapsed_sections": [],
      "toc_visible": true,
      "authorship_tag": "ABX9TyMqCrlLZP/APy6O8PL8o1Qq",
      "include_colab_link": true
    },
    "kernelspec": {
      "name": "python3",
      "display_name": "Python 3"
    },
    "language_info": {
      "name": "python"
    }
  },
  "cells": [
    {
      "cell_type": "markdown",
      "metadata": {
        "id": "view-in-github",
        "colab_type": "text"
      },
      "source": [
        "<a href=\"https://colab.research.google.com/github/Karenncv/myproject/blob/main/Myproject.ipynb\" target=\"_parent\"><img src=\"https://colab.research.google.com/assets/colab-badge.svg\" alt=\"Open In Colab\"/></a>"
      ]
    },
    {
      "cell_type": "markdown",
      "source": [
        "# **1. Variable:**\n",
        "\n",
        "---\n",
        "\n",
        "\n",
        "**Foreing Direct Investment (FDI) in Colombia by sector**\n",
        "\n"
      ],
      "metadata": {
        "id": "R02-F1DD52g_"
      }
    },
    {
      "cell_type": "markdown",
      "source": [
        "## **Variable specifications:**\n",
        "\n",
        "* from 2001 to 2021\n",
        "* the frequency of data is annual\n",
        "* the source of the information is: [Banco de la Republica](https://www.banrep.gov.co/es/estadisticas/inversion-directa)\n",
        "\n",
        "\n",
        "\n",
        "\n",
        "\n"
      ],
      "metadata": {
        "id": "7O0sMjBe7uyD"
      }
    },
    {
      "cell_type": "markdown",
      "source": [
        "#**2. Goals**"
      ],
      "metadata": {
        "id": "EMucxZnu9k_w"
      }
    },
    {
      "cell_type": "markdown",
      "source": [
        "## *Story* \n",
        "The objetive of the visualization is to see the evolution of the last 20 years of foreign direct investment in Colombia, and to represent in which sectors there is a greater preference. "
      ],
      "metadata": {
        "id": "PCT1rX9f9-y4"
      }
    },
    {
      "cell_type": "markdown",
      "source": [
        "## *Audience*\n",
        "\n",
        "* **Companies:** since an increase in foreign direct investment means a greater possibility of obtaining an excellent source of financing for the productive development of companies. \n",
        "* **The goverment:** because foreign direct investment has an effect on the economy of the host country, an increase in employment and GDP, and an indirect effect that is reflected in the increase in productivity and technology transfer. \n"
      ],
      "metadata": {
        "id": "1PtS_XImAL-U"
      }
    },
    {
      "cell_type": "markdown",
      "source": [
        "## *Justify*\n",
        "\n",
        "I think that type of graph is the most appropriate to see the information over the years, and to show which sectors are the best to invest in Colombia.  \n",
        "\n",
        "\n"
      ],
      "metadata": {
        "id": "jDgvBmlXGizJ"
      }
    },
    {
      "cell_type": "markdown",
      "source": [
        "# **Examples:**"
      ],
      "metadata": {
        "id": "yl8QHTFPLN-6"
      }
    },
    {
      "cell_type": "markdown",
      "source": [
        "## Example No.1\n",
        "\n",
        "[Example 1](https://www.youtube.com/shorts/_GmB7nn5r1c)\n",
        "\n",
        "* *Story:* this seeks to show the number of vaccinated per capita among the group of g20 countries, what has been the progress of each country. \n",
        "\n",
        "\n",
        "* *Audience:*  it is important for g20 members to be able to compare themselves with other countries, as well as the people living in those countries. \n",
        "\n",
        "\n",
        "* *Justify:*due to the amount of information since there were many countries is the most appropriate, besides showing who has more amount of vanunados.\n"
      ],
      "metadata": {
        "id": "FXo3_gK4OpDG"
      }
    },
    {
      "cell_type": "markdown",
      "source": [
        "## Example No.2\n",
        "\n",
        "[Example 2](https://www.youtube.com/shorts/To9k6BAcxeA)\n",
        "\n",
        "* *Story:* The graph shows the change in the different means of energy production from 1960 to 2019 and which have been most used and which have ceased to be used. \n",
        "\n",
        "\n",
        "* *Audience:* this can be useful information for the general public who want to know more about these topics, but it is more useful for the companies that own these resources because it shows the importance of these resources. \n",
        "\n",
        "\n",
        "* *Justify:*in this case it is important to see the course over time and the change represented in resources and quantity. \n",
        "\n",
        "\n"
      ],
      "metadata": {
        "id": "BGriYWPrMAk5"
      }
    }
  ]
}