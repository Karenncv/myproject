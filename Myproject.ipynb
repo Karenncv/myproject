{
  "nbformat": 4,
  "nbformat_minor": 0,
  "metadata": {
    "colab": {
      "name": "Myproject.ipynb",
      "provenance": [],
      "collapsed_sections": [],
      "toc_visible": true,
      "authorship_tag": "ABX9TyMJ3sv2vSxGdjKibVYL7vmx",
      "include_colab_link": true
    },
    "kernelspec": {
      "name": "python3",
      "display_name": "Python 3"
    },
    "language_info": {
      "name": "python"
    }
  },
  "cells": [
    {
      "cell_type": "markdown",
      "metadata": {
        "id": "view-in-github",
        "colab_type": "text"
      },
      "source": [
        "<a href=\"https://colab.research.google.com/github/Karenncv/myproject/blob/main/Myproject.ipynb\" target=\"_parent\"><img src=\"https://colab.research.google.com/assets/colab-badge.svg\" alt=\"Open In Colab\"/></a>"
      ]
    },
    {
      "cell_type": "markdown",
      "source": [
        "# **1. Variable:**\n",
        "**Foreing Direct Investment (FDI) in Colombia by sector**\n",
        "\n"
      ],
      "metadata": {
        "id": "R02-F1DD52g_"
      }
    },
    {
      "cell_type": "markdown",
      "source": [
        "## **Variable specifications:**\n",
        "\n",
        "* from 2001 to 2021\n",
        "* the frequency of data is annual\n",
        "* the source of the information is: [Banco de la Republica](https://totoro.banrep.gov.co/analytics/saw.dll?Go&Path=%2Fshared%2FSeries%20Estad%C3%ADsticas_T%2F1.%20Inversi%C3%B3n%20directa%2F1.1%20Historico%2F1.1.3%20Inversion%20extranjera%20directa%20en%20Colombia%20-%20Actividad%20economica_Anual&lang=es&Options=rdf&Action=Prompt)\n",
        "\n",
        "\n",
        "\n"
      ],
      "metadata": {
        "id": "7O0sMjBe7uyD"
      }
    },
    {
      "cell_type": "markdown",
      "source": [
        "#**2. Goals**"
      ],
      "metadata": {
        "id": "EMucxZnu9k_w"
      }
    },
    {
      "cell_type": "markdown",
      "source": [
        "## *Story* \n",
        "The objetive of the visualization is to see the evolution of the last 20 years of foreign direct investment in Colombia, and to represent in which sectors there is a greater preference. "
      ],
      "metadata": {
        "id": "PCT1rX9f9-y4"
      }
    },
    {
      "cell_type": "markdown",
      "source": [
        "## *Audience*\n",
        "\n",
        "* **Companies:** since an increase in foreign direct investment means a greater possibility of obtaining an excellent source of financing for the productive development of companies. \n",
        "* **The goverment:** because foreign direct investment has an effect on the economy of the host country, an increase in employment and GDP, and an indirect effect that is reflected in the increase in productivity and technology transfer. \n"
      ],
      "metadata": {
        "id": "1PtS_XImAL-U"
      }
    },
    {
      "cell_type": "markdown",
      "source": [
        "## *Justify*"
      ],
      "metadata": {
        "id": "jDgvBmlXGizJ"
      }
    },
    {
      "cell_type": "markdown",
      "source": [
        "# **3. Examples**"
      ],
      "metadata": {
        "id": "X4-xM8ZkGPLS"
      }
    }
  ]
}